{
 "cells": [
  {
   "cell_type": "code",
   "execution_count": 1,
   "metadata": {},
   "outputs": [],
   "source": [
    "import tensorflow as tf\n",
    "import numpy as np"
   ]
  },
  {
   "cell_type": "code",
   "execution_count": 18,
   "metadata": {},
   "outputs": [
    {
     "name": "stdout",
     "output_type": "stream",
     "text": [
      "0 1.979231\n",
      "200 0.5080695\n",
      "400 0.4191375\n",
      "600 0.37645838\n",
      "800 0.34974477\n",
      "1000 0.33089018\n",
      "1200 0.31632093\n",
      "1400 0.30424866\n",
      "1600 0.29373622\n",
      "1800 0.2842736\n",
      "2000 0.2755716\n",
      "2200 0.2674594\n",
      "2400 0.25983098\n",
      "2600 0.25261673\n",
      "2800 0.24576885\n",
      "3000 0.23925191\n",
      "3200 0.23303862\n",
      "3400 0.22710682\n",
      "3600 0.22143741\n",
      "3800 0.21601422\n",
      "4000 0.21082233\n",
      "4200 0.20584829\n",
      "4400 0.20107992\n",
      "4600 0.19650573\n",
      "4800 0.19211514\n",
      "5000 0.18789835\n",
      "5200 0.18384606\n",
      "5400 0.17994972\n",
      "5600 0.17620124\n",
      "5800 0.17259294\n",
      "6000 0.16911775\n",
      "6200 0.16576904\n",
      "6400 0.16254042\n",
      "6600 0.15942608\n",
      "6800 0.15642034\n",
      "7000 0.15351814\n",
      "7200 0.15071441\n",
      "7400 0.14800459\n",
      "7600 0.14538427\n",
      "7800 0.14284939\n",
      "8000 0.140396\n",
      "8200 0.13802058\n",
      "8400 0.13571943\n",
      "8600 0.13348949\n",
      "8800 0.13132758\n",
      "9000 0.12923072\n",
      "9200 0.1271963\n",
      "9400 0.12522155\n",
      "9600 0.123304136\n",
      "9800 0.121441536\n",
      "10000 0.119631656\n",
      "hy:  [[0.01938277]\n",
      " [0.1203034 ]\n",
      " [0.2721091 ]\n",
      " [0.9056909 ]\n",
      " [0.8678677 ]\n",
      " [0.98845917]] \n",
      "Correct:  [[0.]\n",
      " [0.]\n",
      " [0.]\n",
      " [1.]\n",
      " [1.]\n",
      " [1.]] \n",
      "Acc: 1.0\n"
     ]
    }
   ],
   "source": [
    "x_data = [[1,2,3], [2,3,4], [3,1,2], [4,3,0], [5,3,8], [6,2,2]]\n",
    "y_data = [[0], [0], [0], [1], [1], [1]]\n",
    "\n",
    "X = tf.placeholder(tf.float32, shape=[None, 3])\n",
    "Y = tf.placeholder(tf.float32, shape=[None, 1])\n",
    "\n",
    "W = tf.Variable(tf.random_normal([3, 1]), name='weight')\n",
    "b = tf.Variable(tf.random_normal([1]), name='bias')\n",
    "\n",
    "hypothesis = tf.sigmoid(tf.matmul(X, W) + b)\n",
    "\n",
    "cost = -tf.reduce_mean(Y*tf.log(hypothesis) + (1-Y)*tf.log(1-hypothesis))\n",
    "\n",
    "train = tf.train.GradientDescentOptimizer(learning_rate=0.01).minimize(cost)\n",
    "\n",
    "predicted = tf.cast(hypothesis>0.5, dtype=tf.float32)\n",
    "accuracy = tf.reduce_mean(tf.cast(tf.equal(predicted, Y), dtype=tf.float32))\n",
    "\n",
    "with tf.Session() as sess:\n",
    "    sess.run(tf.global_variables_initializer())\n",
    "    \n",
    "    for step in range(10001):\n",
    "        cost_val, _ = sess.run([cost, train], {X:x_data, Y:y_data})\n",
    "        if step % 200 == 0:\n",
    "            print(step, cost_val)\n",
    "    \n",
    "    h, c, a = sess.run([hypothesis, predicted, accuracy], {X:x_data, Y:y_data})\n",
    "    print(\"hy: \",h, \"\\nCorrect: \", c, \"\\nAcc:\", a)"
   ]
  },
  {
   "cell_type": "markdown",
   "metadata": {},
   "source": [
    "# Practice with diabetes dataset #"
   ]
  },
  {
   "cell_type": "code",
   "execution_count": 27,
   "metadata": {},
   "outputs": [],
   "source": [
    "xy = np.loadtxt(\"data-03-diabetes.csv\", delimiter=',', dtype=np.float32)\n",
    "x_data = xy[:, :-1]\n",
    "y_data = xy[:, -1:]"
   ]
  },
  {
   "cell_type": "code",
   "execution_count": 29,
   "metadata": {},
   "outputs": [
    {
     "data": {
      "text/plain": [
       "(759, 9)"
      ]
     },
     "execution_count": 29,
     "metadata": {},
     "output_type": "execute_result"
    }
   ],
   "source": [
    "xy.shape"
   ]
  },
  {
   "cell_type": "code",
   "execution_count": 35,
   "metadata": {},
   "outputs": [
    {
     "name": "stdout",
     "output_type": "stream",
     "text": [
      "0.48803607 0.7602108\n"
     ]
    }
   ],
   "source": [
    "# print(xy.shape)\n",
    "\n",
    "X = tf.placeholder(tf.float32, shape=[None, 8])\n",
    "Y = tf.placeholder(tf.float32, shape=[None, 1])\n",
    "\n",
    "W = tf.Variable(tf.random_normal([8,1]), name='weigth')\n",
    "b = tf.Variable(tf.random_normal([1]), name='bias')\n",
    "\n",
    "hypothesis = tf.sigmoid(tf.matmul(X, W) + b)\n",
    "cost = -tf.reduce_mean(Y*tf.log(hypothesis) + (1-Y)*tf.log(1-hypothesis))\n",
    "\n",
    "train = tf.train.GradientDescentOptimizer(learning_rate=0.01).minimize(cost)\n",
    "predicted = tf.cast(hypothesis>0.5, dtype=tf.float32)\n",
    "accuracy = tf.reduce_mean(tf.cast(tf.equal(predicted, Y), dtype=tf.float32))\n",
    "\n",
    "with tf.Session() as sess:\n",
    "    sess.run(tf.global_variables_initializer())\n",
    "    \n",
    "    for step in range(10001):\n",
    "        cost_val, hy_val, _ = sess.run([cost, hypothesis, train], {X:x_data, Y:y_data})\n",
    "\n",
    "    c, h, a = sess.run([cost, predicted, accuracy], {X:x_data, Y:y_data})    \n",
    "    print(c, a)"
   ]
  },
  {
   "cell_type": "code",
   "execution_count": null,
   "metadata": {},
   "outputs": [],
   "source": []
  }
 ],
 "metadata": {
  "kernelspec": {
   "display_name": "handsonML2",
   "language": "python",
   "name": "env"
  },
  "language_info": {
   "codemirror_mode": {
    "name": "ipython",
    "version": 3
   },
   "file_extension": ".py",
   "mimetype": "text/x-python",
   "name": "python",
   "nbconvert_exporter": "python",
   "pygments_lexer": "ipython3",
   "version": "3.6.2"
  }
 },
 "nbformat": 4,
 "nbformat_minor": 2
}
